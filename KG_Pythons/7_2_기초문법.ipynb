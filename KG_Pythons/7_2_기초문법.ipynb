{
  "cells": [
    {
      "cell_type": "markdown",
      "metadata": {
        "id": "8d7PWqnzDmTK"
      },
      "source": [
        "# 7_2 \uae30\ucd08\ubb38\ubc95\n"
      ]
    },
    {
      "cell_type": "markdown",
      "metadata": {
        "id": "Pvw6ZDWNl_Hl"
      },
      "source": [
        "7/2\n",
        "\n",
        "\ud30c\uc774\uc36c \uc791\uc5c5\ud234 - Colab  \n",
        "\n",
        "Data Type(int, bool)"
      ]
    },
    {
      "cell_type": "code",
      "execution_count": null,
      "metadata": {
        "colab": {
          "base_uri": "https://localhost:8080/"
        },
        "id": "HSURH6VYkWPu",
        "outputId": "d5c6e0b0-7655-48ef-a12b-b232246e94cd"
      },
      "outputs": [
        {
          "name": "stdout",
          "output_type": "stream",
          "text": [
            "True\n",
            "<class 'bool'>\n"
          ]
        }
      ],
      "source": [
        "x=8\n",
        "y=5\n",
        "\n",
        "result = x > y\n",
        "print(result)\n",
        "print(type(result))"
      ]
    },
    {
      "cell_type": "code",
      "execution_count": null,
      "metadata": {
        "colab": {
          "base_uri": "https://localhost:8080/"
        },
        "id": "Yv8nP0VYlV4V",
        "outputId": "a138dafa-75b9-43b7-fbf6-a5ef77d39af7"
      },
      "outputs": [
        {
          "name": "stdout",
          "output_type": "stream",
          "text": [
            "True\n"
          ]
        }
      ],
      "source": [
        "x=1\n",
        "print(isinstance(x, int))"
      ]
    },
    {
      "cell_type": "markdown",
      "metadata": {
        "id": "JqWNyB6pmvBO"
      },
      "source": [
        "Sequency Data Type(str, list, dict)"
      ]
    },
    {
      "cell_type": "code",
      "execution_count": null,
      "metadata": {
        "colab": {
          "base_uri": "https://localhost:8080/"
        },
        "id": "hq9z5wBalkTL",
        "outputId": "00740116-3bfd-459b-869d-b187dd5b2141"
      },
      "outputs": [
        {
          "name": "stdout",
          "output_type": "stream",
          "text": [
            "<class 'str'>\n"
          ]
        }
      ],
      "source": [
        "print(type('A'))"
      ]
    },
    {
      "cell_type": "code",
      "execution_count": null,
      "metadata": {
        "colab": {
          "base_uri": "https://localhost:8080/"
        },
        "id": "oZZqQPBWm5Bq",
        "outputId": "73e6ae73-6cf9-4f4e-a193-b73a9cfd55a2"
      },
      "outputs": [
        {
          "name": "stdout",
          "output_type": "stream",
          "text": [
            "<class 'list'>\n"
          ]
        }
      ],
      "source": [
        "my_lessons = ['\ud30c\uc774\uc36c', '\uc544\ub450\uc774\ub178', 'ros2']\n",
        "print(type(my_lessons))"
      ]
    },
    {
      "cell_type": "code",
      "execution_count": null,
      "metadata": {
        "colab": {
          "base_uri": "https://localhost:8080/"
        },
        "id": "i2tELCgunIG3",
        "outputId": "f9d26352-46a0-40a8-ae51-f8114a43fe87"
      },
      "outputs": [
        {
          "name": "stdout",
          "output_type": "stream",
          "text": [
            "<class 'str'>\n"
          ]
        }
      ],
      "source": [
        "#String data type\n",
        "print(type(\"\ub85c\ubd07\"))"
      ]
    },
    {
      "cell_type": "code",
      "execution_count": null,
      "metadata": {
        "colab": {
          "base_uri": "https://localhost:8080/"
        },
        "id": "QjSewW9TnKjf",
        "outputId": "afde3e34-af03-4b01-8e29-8c46dd5e715f"
      },
      "outputs": [
        {
          "name": "stdout",
          "output_type": "stream",
          "text": [
            "<class 'dict'>\n",
            "90\n"
          ]
        }
      ],
      "source": [
        "my_scores  = {\"\ud30c\uc774\uc36c\" : 100, \"\uc544\ub450\uc774\ub178\" : 90, \"ros2\" : 95}\n",
        "print(type(my_scores))\n",
        "print(my_scores['\uc544\ub450\uc774\ub178'])"
      ]
    },
    {
      "cell_type": "code",
      "execution_count": null,
      "metadata": {
        "colab": {
          "base_uri": "https://localhost:8080/"
        },
        "id": "jBUOKwMgpFV2",
        "outputId": "7f0ae504-89db-41d4-ab62-74d3b306a20a"
      },
      "outputs": [
        {
          "name": "stdout",
          "output_type": "stream",
          "text": [
            "\uc774\ub984 :  Alice\n",
            "\ub098\uc774 :  25 \uc138\n",
            "\ud0a4 :  165.5 cm\n"
          ]
        }
      ],
      "source": [
        "#\ubcc0\uc218 \uc120\uc5b8 \ubc0f \uac12 \ud560\ub2f9\n",
        "name=\"Alice\"\n",
        "age=25\n",
        "height=165.5\n",
        "\n",
        "#\ubcc0\uc218\uc0ac\uc6a9\n",
        "print(\"\uc774\ub984 : \",name)\n",
        "print(\"\ub098\uc774 : \",age,\"\uc138\")\n",
        "print(\"\ud0a4 : \",height,\"cm\")"
      ]
    },
    {
      "cell_type": "code",
      "execution_count": 1,
      "metadata": {
        "colab": {
          "base_uri": "https://localhost:8080/"
        },
        "id": "6l1zDtVfunDB",
        "outputId": "6281b743-5a7f-4e05-c6c7-b25d6f6cc17c"
      },
      "outputs": [
        {
          "name": "stdout",
          "output_type": "stream",
          "text": [
            "\uccab\ubc88\uc9f8 \uc22b\uc790\ub97c \uc785\ub825\ud558\uc138\uc694 : 25\n",
            "\ub450\ubc88\uc9f8 \uc22b\uc790\ub97c \uc785\ub825\ud558\uc138\uc694 : 15\n",
            "\ub367\uc148: 40.0\n",
            "\ube84\uc148: 10.0\n",
            "\uacf1\uc148: 375.0\n",
            "\ub098\ub217\uc148: 1.6666666666666667\n"
          ]
        }
      ],
      "source": [
        "num1 = float(input(\"\uccab\ubc88\uc9f8 \uc22b\uc790\ub97c \uc785\ub825\ud558\uc138\uc694 : \"))\n",
        "num2 = float(input(\"\ub450\ubc88\uc9f8 \uc22b\uc790\ub97c \uc785\ub825\ud558\uc138\uc694 : \"))\n",
        "\n",
        "print(\"\ub367\uc148:\", num1 + num2)\n",
        "print(\"\ube84\uc148:\", num1 - num2)\n",
        "print(\"\uacf1\uc148:\", num1 * num2)\n",
        "print(\"\ub098\ub217\uc148:\", num1 / num2)\n",
        "\n",
        "\n"
      ]
    },
    {
      "cell_type": "code",
      "execution_count": null,
      "metadata": {
        "colab": {
          "base_uri": "https://localhost:8080/"
        },
        "id": "GAN9jhLsrnMx",
        "outputId": "14a2032c-d9bd-4e55-d1c8-99e8d521e309"
      },
      "outputs": [
        {
          "name": "stdout",
          "output_type": "stream",
          "text": [
            "\ubc18\uc9c0\ub984 \uc785\ub825\ud558\uc138\uc694 : 9\n",
            "\uc6d0\uc758 \ub113\uc774 : 254.34\n"
          ]
        }
      ],
      "source": [
        "num1 = float(input(\"\ubc18\uc9c0\ub984 \uc785\ub825\ud558\uc138\uc694 : \"))\n",
        "\n",
        "print('\uc6d0\uc758 \ub113\uc774 :', 3.14*num1*num1)"
      ]
    },
    {
      "cell_type": "code",
      "execution_count": null,
      "metadata": {
        "colab": {
          "base_uri": "https://localhost:8080/"
        },
        "id": "A-W32cR9xN2x",
        "outputId": "7814b988-56b5-45dd-a6a7-77e30eed99b6"
      },
      "outputs": [
        {
          "name": "stdout",
          "output_type": "stream",
          "text": [
            "banana\n"
          ]
        }
      ],
      "source": [
        "fruits=[\"apple\", \"banana\",\"orange\"]\n",
        "\n",
        "print(fruits[1])"
      ]
    },
    {
      "cell_type": "code",
      "execution_count": null,
      "metadata": {
        "colab": {
          "base_uri": "https://localhost:8080/"
        },
        "id": "URP34hCLxv57",
        "outputId": "78d6b900-fc82-4648-948d-7bee4b450014"
      },
      "outputs": [
        {
          "name": "stdout",
          "output_type": "stream",
          "text": [
            "['apple', 'banana', 'cherry']\n",
            "['apple', 'banana', 'cherry', 'orange']\n",
            "['apple', 'banana', 'cherry', 'orange', 'orange2']\n",
            "apple\n",
            "orange2\n"
          ]
        }
      ],
      "source": [
        "#\ub9ac\uc2a4\ud2b8 \uc0dd\uc131\n",
        "fruits=['apple','banana', 'cherry']\n",
        "print(fruits)\n",
        "\n",
        "fruits.append('orange')\n",
        "print(fruits)\n",
        "\n",
        "fruits.append('orange2')\n",
        "print(fruits)\n",
        "\n",
        "print(fruits[0])\n",
        "print(fruits[-1])"
      ]
    },
    {
      "cell_type": "code",
      "execution_count": null,
      "metadata": {
        "colab": {
          "base_uri": "https://localhost:8080/"
        },
        "id": "-qfJaKFbzZXE",
        "outputId": "dc94e124-878b-41d1-de47-255b4e928aaf"
      },
      "outputs": [
        {
          "name": "stdout",
          "output_type": "stream",
          "text": [
            "[1, 4, 9, 16, 25]\n"
          ]
        }
      ],
      "source": [
        "#\ub9ac\uc2a4\ud2b8 \ub0b4\ud3ec(Complihension)\n",
        "numbers = [1,2,3,4,5]\n",
        "squares = [x**2 for x in numbers]\n",
        "print(squares)"
      ]
    },
    {
      "cell_type": "code",
      "execution_count": null,
      "metadata": {
        "colab": {
          "base_uri": "https://localhost:8080/"
        },
        "id": "4oI42t210Xf-",
        "outputId": "babada79-4c98-477f-a52a-f38b4b86a1c2"
      },
      "outputs": [
        {
          "name": "stdout",
          "output_type": "stream",
          "text": [
            "True\n",
            "False\n"
          ]
        }
      ],
      "source": [
        "# \ub9ac\uc2a4\ud2b8 \uc694\uc18c \uac80\uc0ac\n",
        "fruits=['apple','banana', 'cherry']\n",
        "print('apple' in fruits)\n",
        "print('grape' in fruits)"
      ]
    },
    {
      "cell_type": "code",
      "execution_count": null,
      "metadata": {
        "colab": {
          "base_uri": "https://localhost:8080/"
        },
        "id": "kLfcS5lV1EFu",
        "outputId": "536cd006-d54e-4add-d109-232074c03750"
      },
      "outputs": [
        {
          "name": "stdout",
          "output_type": "stream",
          "text": [
            "['banana', 'cherry']\n",
            "[1, 2, 3]\n"
          ]
        }
      ],
      "source": [
        "print(fruits[1:3])\n",
        "print(numbers[:3])"
      ]
    },
    {
      "cell_type": "code",
      "execution_count": null,
      "metadata": {
        "colab": {
          "base_uri": "https://localhost:8080/"
        },
        "id": "RLbEK0UF14s7",
        "outputId": "f48b67ba-8970-4e78-c907-40a58e0b05a2"
      },
      "outputs": [
        {
          "name": "stdout",
          "output_type": "stream",
          "text": [
            "[1, 2, 3, 4, 5]\n",
            "[5, 4, 3, 2, 1]\n"
          ]
        }
      ],
      "source": [
        "#\ub9ac\uc2a4\ud2b8 \uc815\ub82c\n",
        "numbers=[5,2,3,1,4]\n",
        "numbers.sort()\n",
        "\n",
        "print(numbers)\n",
        "#\uc5ed\uc21c \uc815\ub82c\n",
        "numbers.sort(reverse=True)\n",
        "print(numbers)\n"
      ]
    },
    {
      "cell_type": "code",
      "execution_count": 3,
      "metadata": {
        "colab": {
          "base_uri": "https://localhost:8080/"
        },
        "id": "V9LoEb0U3ZoG",
        "outputId": "224a4dbb-73fe-4ab0-e51e-fa6fd9bdb3a8"
      },
      "outputs": [
        {
          "name": "stdout",
          "output_type": "stream",
          "text": [
            "[1, 2, 3, 4, 5]\n",
            "[1, 2, 3, 4, 5, 6]\n",
            "[1, 2, 3, 4, 5]\n"
          ]
        }
      ],
      "source": [
        "#\ub9ac\uc2a4\ud2b8 \ubcf5\uc0ac\n",
        "original = [1,2,3,4,5]\n",
        "copy=original[:]\n",
        "print(copy)\n",
        "\n",
        "original.append(6)\n",
        "print(original)\n",
        "print(copy)"
      ]
    },
    {
      "cell_type": "code",
      "execution_count": null,
      "metadata": {
        "colab": {
          "base_uri": "https://localhost:8080/"
        },
        "id": "cxX3X5f08IIc",
        "outputId": "9b9fcc10-77e6-4e7c-e7b5-99262c91e1e5"
      },
      "outputs": [
        {
          "name": "stdout",
          "output_type": "stream",
          "text": [
            "Alice\n",
            "30\n",
            "{'name': 'Alice', 'age': 30, 'city': 'Seoul'}\n"
          ]
        }
      ],
      "source": [
        "person = {\"name\": \"Alice\", \"age\": 30, \"city\": \"Seoul\"}\n",
        "print(person[\"name\"])\n",
        "print(person[\"age\"])\n",
        "print(person)"
      ]
    },
    {
      "cell_type": "code",
      "execution_count": null,
      "metadata": {
        "colab": {
          "base_uri": "https://localhost:8080/",
          "height": 255
        },
        "id": "9HzOPiGo9RDo",
        "outputId": "74578605-58fe-47af-cceb-3c86ee9e155b"
      },
      "outputs": [
        {
          "name": "stdout",
          "output_type": "stream",
          "text": [
            "{'name': 'Alice', 'age': 26, 'email': 'ailce@exaple.com'}\n",
            "{'name': 'Alice', 'age': 26, 'email': 'ailce@exaple.com'}\n"
          ]
        },
        {
          "ename": "KeyError",
          "evalue": "'city'",
          "output_type": "error",
          "traceback": [
            "\u001b[0;31m---------------------------------------------------------------------------\u001b[0m",
            "\u001b[0;31mKeyError\u001b[0m                                  Traceback (most recent call last)",
            "\u001b[0;32m/tmp/ipython-input-83-3378428700.py\u001b[0m in \u001b[0;36m<cell line: 0>\u001b[0;34m()\u001b[0m\n\u001b[1;32m      9\u001b[0m \u001b[0;34m\u001b[0m\u001b[0m\n\u001b[1;32m     10\u001b[0m \u001b[0;31m# \uc694\uc18c \uc0ad\uc81c\u001b[0m\u001b[0;34m\u001b[0m\u001b[0;34m\u001b[0m\u001b[0m\n\u001b[0;32m---> 11\u001b[0;31m \u001b[0;32mdel\u001b[0m \u001b[0mperson\u001b[0m\u001b[0;34m[\u001b[0m\u001b[0;34m'city'\u001b[0m\u001b[0;34m]\u001b[0m\u001b[0;34m\u001b[0m\u001b[0;34m\u001b[0m\u001b[0m\n\u001b[0m\u001b[1;32m     12\u001b[0m \u001b[0mprint\u001b[0m\u001b[0;34m(\u001b[0m\u001b[0mperson\u001b[0m\u001b[0;34m)\u001b[0m\u001b[0;34m\u001b[0m\u001b[0;34m\u001b[0m\u001b[0m\n\u001b[1;32m     13\u001b[0m \u001b[0;34m\u001b[0m\u001b[0m\n",
            "\u001b[0;31mKeyError\u001b[0m: 'city'"
          ]
        }
      ],
      "source": [
        "#\ub515\uc154\ub108\ub9ac \uc694\uc18c \ucd94\uac00 \ubc0f \uc218\uc815\n",
        "person['email']=\"ailce@exaple.com\"\n",
        "print(person)\n",
        "\n",
        "\n",
        "person['age'] = 26\n",
        "\n",
        "print(person)\n",
        "\n",
        "# \uc694\uc18c \uc0ad\uc81c\n",
        "del person['city']\n",
        "print(person)\n",
        "\n"
      ]
    },
    {
      "cell_type": "code",
      "execution_count": null,
      "metadata": {
        "colab": {
          "base_uri": "https://localhost:8080/"
        },
        "id": "bE7hJKJ3924K",
        "outputId": "75157683-4d50-46d1-c209-0a68b490d930"
      },
      "outputs": [
        {
          "name": "stdout",
          "output_type": "stream",
          "text": [
            "True\n",
            "False\n",
            "name:Alice\n",
            "age:26\n",
            "email:ailce@exaple.com\n"
          ]
        }
      ],
      "source": [
        "#\ub515\uc154\ub108\ub9ac \ud0a4 \uac80\uc0ac\n",
        "print('name' in person)\n",
        "print('city' in person)\n",
        "\n",
        "#\ub515\uc154\ub108\ub9ac \uc21c\ud68c\n",
        "for key in person:\n",
        "    print(f\"{key}:{person[key]}\")"
      ]
    },
    {
      "cell_type": "code",
      "execution_count": null,
      "metadata": {
        "colab": {
          "base_uri": "https://localhost:8080/"
        },
        "id": "VQcM9zXl-iCv",
        "outputId": "681b107c-3ece-4d45-8fb2-71c1821b5053"
      },
      "outputs": [
        {
          "name": "stdout",
          "output_type": "stream",
          "text": [
            "{'Alice': {'age': 25, 'major': 'Physics'}, 'Bob': {'age': 22, 'major': 'Chemistry'}}\n",
            "Physics\n"
          ]
        }
      ],
      "source": [
        "#\uc911\ucca9 \ub515\uc154\ub108\ub9ac\n",
        "students={'Alice': {'age': 25, 'major': 'Physics'},\n",
        "          'Bob': {'age': 22, 'major': 'Chemistry'}}\n",
        "\n",
        "print(students)\n",
        "print(students['Alice']['major'])"
      ]
    },
    {
      "cell_type": "code",
      "execution_count": null,
      "metadata": {
        "colab": {
          "base_uri": "https://localhost:8080/"
        },
        "id": "PUrOF3XK_hc6",
        "outputId": "0129d5c6-be8b-47fc-f384-ccc6fba680ac"
      },
      "outputs": [
        {
          "name": "stdout",
          "output_type": "stream",
          "text": [
            "('apple', 'banana', 'cherry')\n",
            "apple\n",
            "banana\n",
            "cherry\n"
          ]
        }
      ],
      "source": [
        "#\ud29c\ud50c \uc0dd\uc131\n",
        "fruit_tuple=('apple','banana', 'cherry')\n",
        "print(fruit_tuple)\n",
        "\n",
        "#\uc694\uc18c\uc811\uadfc\n",
        "print(fruit_tuple[0])\n",
        "print(fruit_tuple[1])\n",
        "print(fruit_tuple[-1])\n",
        "\n"
      ]
    },
    {
      "cell_type": "code",
      "execution_count": null,
      "metadata": {
        "colab": {
          "base_uri": "https://localhost:8080/",
          "height": 182
        },
        "id": "ZeOb7hlM_9eX",
        "outputId": "ff6b7783-0e7e-4a10-807b-443effa1ff1f"
      },
      "outputs": [
        {
          "ename": "TypeError",
          "evalue": "'tuple' object does not support item assignment",
          "output_type": "error",
          "traceback": [
            "\u001b[0;31m---------------------------------------------------------------------------\u001b[0m",
            "\u001b[0;31mTypeError\u001b[0m                                 Traceback (most recent call last)",
            "\u001b[0;32m/tmp/ipython-input-100-731126165.py\u001b[0m in \u001b[0;36m<cell line: 0>\u001b[0;34m()\u001b[0m\n\u001b[1;32m      1\u001b[0m \u001b[0;31m#\ud29c\ud50c \ubd88\ubcc0\uc131 \uc608\uc81c\u001b[0m\u001b[0;34m\u001b[0m\u001b[0;34m\u001b[0m\u001b[0m\n\u001b[1;32m      2\u001b[0m \u001b[0mfruit_tuple\u001b[0m\u001b[0;34m=\u001b[0m\u001b[0;34m(\u001b[0m\u001b[0;34m'apple'\u001b[0m\u001b[0;34m,\u001b[0m\u001b[0;34m'banana'\u001b[0m\u001b[0;34m,\u001b[0m \u001b[0;34m'cherry'\u001b[0m\u001b[0;34m)\u001b[0m\u001b[0;34m\u001b[0m\u001b[0;34m\u001b[0m\u001b[0m\n\u001b[0;32m----> 3\u001b[0;31m \u001b[0mfruit_tuple\u001b[0m\u001b[0;34m[\u001b[0m\u001b[0;36m1\u001b[0m\u001b[0;34m]\u001b[0m \u001b[0;34m=\u001b[0m \u001b[0;34m'blueberry'\u001b[0m\u001b[0;34m\u001b[0m\u001b[0;34m\u001b[0m\u001b[0m\n\u001b[0m",
            "\u001b[0;31mTypeError\u001b[0m: 'tuple' object does not support item assignment"
          ]
        }
      ],
      "source": [
        "#\ud29c\ud50c \ubd88\ubcc0\uc131 \uc608\uc81c\n",
        "fruit_tuple=('apple','banana', 'cherry')\n",
        "fruit_tuple[1] = 'blueberry'"
      ]
    },
    {
      "cell_type": "code",
      "execution_count": null,
      "metadata": {
        "colab": {
          "base_uri": "https://localhost:8080/"
        },
        "id": "JeM06xYwAYhW",
        "outputId": "7440bec3-2b1b-4637-bd92-3241e8157ca8"
      },
      "outputs": [
        {
          "name": "stdout",
          "output_type": "stream",
          "text": [
            "(('apple', 'banana'), ('cherry', 'date'))\n",
            "('apple', 'banana')\n",
            "banana\n"
          ]
        }
      ],
      "source": [
        "#\uc911\ucca9 \ud29c\ud50c\n",
        "nested_tuple=(('apple', 'banana'), ('cherry', 'date'))\n",
        "print(nested_tuple)\n",
        "print(nested_tuple[0])\n",
        "print(nested_tuple[0][1])"
      ]
    },
    {
      "cell_type": "code",
      "execution_count": null,
      "metadata": {
        "colab": {
          "base_uri": "https://localhost:8080/"
        },
        "id": "5Oy17D1oA3uy",
        "outputId": "3949a982-0be4-46a1-d763-4f71a5709742"
      },
      "outputs": [
        {
          "name": "stdout",
          "output_type": "stream",
          "text": [
            "('apple', 'banana', 'cherry', 'date')\n"
          ]
        }
      ],
      "source": [
        "#\ud29c\ud50c \ubcd1\ud569\n",
        "tuple1 = ('apple', 'banana')\n",
        "tuple2 = ('cherry', 'date')\n",
        "merged_tuple = tuple1 + tuple2\n",
        "print(merged_tuple)\n"
      ]
    },
    {
      "cell_type": "code",
      "execution_count": null,
      "metadata": {
        "colab": {
          "base_uri": "https://localhost:8080/"
        },
        "id": "vYfNp8QtBaTL",
        "outputId": "27bb8c56-41a9-4c6e-a29a-8bd761ee76b3"
      },
      "outputs": [
        {
          "name": "stdout",
          "output_type": "stream",
          "text": [
            "1\n"
          ]
        }
      ],
      "source": [
        "#\ud29c\ud50c\uc560\uc11c \uc778\ub371\uc2a4 \ucc3e\uae30\n",
        "fruit_tuple=('apple', 'banana', 'cherry')\n",
        "index=fruit_tuple.index('banana')\n",
        "print(index )"
      ]
    },
    {
      "cell_type": "code",
      "execution_count": null,
      "metadata": {
        "colab": {
          "base_uri": "https://localhost:8080/"
        },
        "id": "M4btP5ijBp_o",
        "outputId": "3b2f7f72-fd4b-4d57-8fb5-8b935926d92e"
      },
      "outputs": [
        {
          "name": "stdout",
          "output_type": "stream",
          "text": [
            "\uc774\ub984\uc744 \uc785\ub825\ud558\uc138\uc694: dd\n",
            "\uc804\ud654\ubc88\ud638\ub97c \ucc3e\uc744 \uc218 \uc5c6\uc2b5\ub2c8\ub2e4.\n",
            "\uc0c8\ub85c\uc6b4 \uc774\ub984\uc744 \uc785\ub825\ud558\uc138\uc694: ddd\n",
            "\uc0c8\ub85c\uc6b4 \uc804\ud654\ubc88\ud638\ub97c \uc785\ub825\ud558\uc138\uc694: ddddd\n",
            "---------\uc804\ud654\ubc88\ud638\ubd80---------\n",
            "Alice: 010-1234-5678\n",
            "Bob: 010-2345-6789\n",
            "Charlie: 010-3456-7890\n",
            "ddd: ddddd\n"
          ]
        }
      ],
      "source": [
        "phone_book = {\n",
        "    \"Alice\": \"010-1234-5678\",\n",
        "    \"Bob\" : \"010-2345-6789\",\n",
        "    \"Charlie\":\"010-3456-7890\"\n",
        "}\n",
        "\n",
        "#\uc804\ud654\ubc88\ud638 \uac80\uc0c9\n",
        "name= input(\"\uc774\ub984\uc744 \uc785\ub825\ud558\uc138\uc694: \")\n",
        "number= phone_book.get(name)\n",
        "\n",
        "if number:\n",
        "    print(f\"{name}\uc758 \uc804\ud654\ubc88\ud638\ub294 {number}\uc785\ub2c8\ub2e4.\")\n",
        "else:\n",
        "    print(\"\uc804\ud654\ubc88\ud638\ub97c \ucc3e\uc744 \uc218 \uc5c6\uc2b5\ub2c8\ub2e4.\")\n",
        "\n",
        "#\uc0c8\ub85c\uc6b4 \uc5f0\ub77d\ucc98 \ucd94\uac00\n",
        "new_name=input(\"\uc0c8\ub85c\uc6b4 \uc774\ub984\uc744 \uc785\ub825\ud558\uc138\uc694: \")\n",
        "new_number=input(\"\uc0c8\ub85c\uc6b4 \uc804\ud654\ubc88\ud638\ub97c \uc785\ub825\ud558\uc138\uc694: \")\n",
        "phone_book[new_name]=new_number\n",
        "\n",
        "#\uc804\uccb4 \uc804\ud654\ubc88\ud638 \ucd9c\ub825\n",
        "print(\"---------\uc804\ud654\ubc88\ud638\ubd80---------\")\n",
        "for name, number in phone_book.items():\n",
        "    print(f\"{name}: {number}\")\n"
      ]
    },
    {
      "cell_type": "code",
      "execution_count": null,
      "metadata": {
        "colab": {
          "base_uri": "https://localhost:8080/"
        },
        "id": "f8YsfMz_D1HV",
        "outputId": "83717bec-ea53-4392-9f50-59519b498ba4"
      },
      "outputs": [
        {
          "name": "stdout",
          "output_type": "stream",
          "text": [
            "{1, 2, 3}\n"
          ]
        }
      ],
      "source": [
        "fruits={'apple',\"banana\",\"orange\"}\n",
        "numbers=set([1,1,1,2,3,2,3,3])\n",
        "print(numbers)"
      ]
    },
    {
      "cell_type": "code",
      "execution_count": null,
      "metadata": {
        "colab": {
          "base_uri": "https://localhost:8080/"
        },
        "id": "gL69UlJNEK0E",
        "outputId": "bd9be4b5-6097-45d2-e6be-1ce0e402055b"
      },
      "outputs": [
        {
          "name": "stdout",
          "output_type": "stream",
          "text": [
            "{1, 2, 3, 4, 5}\n",
            "{3}\n",
            "{1, 2}\n"
          ]
        }
      ],
      "source": [
        "#\uc138\ud2b8 \uc911\ubcf5 \uc5c6\ub294 \ub370\uc774\ud130 \ubaa8\uc74c\n",
        "set1={1,2,3}\n",
        "set2={3,4,5}\n",
        "\n",
        "union_set=set1.union(set2)\n",
        "union_set=set1 | set2\n",
        "print(union_set)\n",
        "\n",
        "intersection_set=set1.intersection(set2)\n",
        "intersection_set=set1 & set2\n",
        "print(intersection_set)\n",
        "\n",
        "difference_set=set1.difference(set2)\n",
        "difference_set=set1 - set2\n",
        "print(difference_set)\n"
      ]
    },
    {
      "cell_type": "code",
      "execution_count": null,
      "metadata": {
        "colab": {
          "base_uri": "https://localhost:8080/"
        },
        "id": "qshp_R1KExzX",
        "outputId": "fa40f6d5-aa30-438c-bc6a-1da42b296105"
      },
      "outputs": [
        {
          "name": "stdout",
          "output_type": "stream",
          "text": [
            "x\ub294 5\ubcf4\ub2e4 \ud07d\ub2c8\ub2e4.\n"
          ]
        }
      ],
      "source": [
        "x = 10\n",
        "if x>5:\n",
        "  print(\"x\ub294 5\ubcf4\ub2e4 \ud07d\ub2c8\ub2e4.\")\n",
        "else:\n",
        "  print(\"x\ub294 5\ubcf4\ub2e4 \uc791\uac70\ub098 \uac19\uc2b5\ub2c8\ub2e4.\")"
      ]
    },
    {
      "cell_type": "code",
      "execution_count": null,
      "metadata": {
        "colab": {
          "base_uri": "https://localhost:8080/"
        },
        "id": "VcvAJIbtJc3Z",
        "outputId": "f0809d15-76ff-4805-d28e-031c67e6dcea"
      },
      "outputs": [
        {
          "name": "stdout",
          "output_type": "stream",
          "text": [
            "\uc22b\uc790\ub97c \uc785\ub825\ud574\uc8fc\uc138\uc694 :5\n",
            "\ud640\uc218\uc785\ub2c8\ub2e4.\n"
          ]
        }
      ],
      "source": [
        "number = int(input('\uc22b\uc790\ub97c \uc785\ub825\ud574\uc8fc\uc138\uc694 :'))\n",
        "\n",
        "if number % 2 ==0:\n",
        "  print(\"\uc9dd\uc218\uc785\ub2c8\ub2e4.\")\n",
        "else:\n",
        "  print(\"\ud640\uc218\uc785\ub2c8\ub2e4.\")\n"
      ]
    },
    {
      "cell_type": "code",
      "execution_count": null,
      "metadata": {
        "colab": {
          "base_uri": "https://localhost:8080/"
        },
        "id": "HeuDWnnjKkSX",
        "outputId": "bfd6048e-1e98-4b93-cb57-95ef5063739d"
      },
      "outputs": [
        {
          "name": "stdout",
          "output_type": "stream",
          "text": [
            "0.0\uacfc 1.0\uc0ac\uc774\uc758 \ub79c\ub364 \uc18c\uc218 : 0.5550595596352017\n",
            "1\uacfc 10\uc0ac\uc774\uc758 \ub79c\ub364 \uc815\uc218 : 10\n"
          ]
        }
      ],
      "source": [
        "import random\n",
        "\n",
        "#0.0 \uc774\uc0c1 1.0 \ubbf8\uc548\uc758 \ub09c\uc218 \uc0dd\uc131\n",
        "random_float = random.random()\n",
        "print(f\"0.0\uacfc 1.0\uc0ac\uc774\uc758 \ub79c\ub364 \uc18c\uc218 : {random_float}\")\n",
        "\n",
        "#1\uc774\uc0c1 10\uc774\ud558 \uc815\uc218 \ub09c\uc218 \uc0dd\uc131\n",
        "random_integer = random.randint(1, 10)\n",
        "print(f\"1\uacfc 10\uc0ac\uc774\uc758 \ub79c\ub364 \uc815\uc218 : {random_integer}\")"
      ]
    },
    {
      "cell_type": "code",
      "execution_count": null,
      "metadata": {
        "colab": {
          "base_uri": "https://localhost:8080/"
        },
        "id": "Ix0m-2MjLh0L",
        "outputId": "da8e0f30-fa55-49d1-c0be-934ee642446f"
      },
      "outputs": [
        {
          "name": "stdout",
          "output_type": "stream",
          "text": [
            "1\ubd80\ud130 100 \uc0ac\uc774\uc758 \uc22b\uc790\ub97c \ucd94\uce21\ud574\ubcf4\uc138\uc694:85\n",
            "\ub108\ubb34 \ub192\uc544\uc694\n",
            "\uc815\ub2f5 : 17\n"
          ]
        }
      ],
      "source": [
        "import random\n",
        "\n",
        "secret_number = random.randint(1,100)\n",
        "guess=int(input(\"1\ubd80\ud130 100 \uc0ac\uc774\uc758 \uc22b\uc790\ub97c \ucd94\uce21\ud574\ubcf4\uc138\uc694:\"))\n",
        "\n",
        "if guess == secret_number:\n",
        "  print(\"\ucd95\ud558\ud569\ub2c8\ub2e4. \uc815\ub2f5\uc785\ub2c8\ub2e4.\")\n",
        "elif guess < secret_number:\n",
        "  print(\"\ub108\ubb34 \ub0ae\uc544\uc694!\")\n",
        "else:\n",
        "  print(\"\ub108\ubb34 \ub192\uc544\uc694\")\n",
        "\n",
        "print(f\"\uc815\ub2f5 : {secret_number}\")"
      ]
    },
    {
      "cell_type": "code",
      "execution_count": null,
      "metadata": {
        "colab": {
          "base_uri": "https://localhost:8080/"
        },
        "id": "wnIf88x6MeLM",
        "outputId": "efd27c83-43f5-406f-ac16-91ccb64f4bed"
      },
      "outputs": [
        {
          "name": "stdout",
          "output_type": "stream",
          "text": [
            "1\n",
            "2\n",
            "3\n",
            "4\n",
            "5\n"
          ]
        }
      ],
      "source": [
        "for test in [1,2,3,4,5]:\n",
        "  print(test)"
      ]
    },
    {
      "cell_type": "code",
      "execution_count": null,
      "metadata": {
        "colab": {
          "base_uri": "https://localhost:8080/"
        },
        "id": "yHr_Yl_9Npf3",
        "outputId": "2db0aa22-976c-46e3-a87e-f830854c3936"
      },
      "outputs": [
        {
          "name": "stdout",
          "output_type": "stream",
          "text": [
            "apple \uc758 \uc0c9 : red\n",
            "banana \uc758 \uc0c9 : yellow\n",
            "cherry \uc758 \uc0c9 : purple\n"
          ]
        }
      ],
      "source": [
        "#\uc5ec\ub7ec \uc2dc\ud000\uc2a4\ub97c \uc870\ud569\ud55c \uc608\uc81c\n",
        "fruits = ['apple','banana', 'cherry']\n",
        "colors = ['red', 'yellow', 'purple']\n",
        "\n",
        "for fruit, color in zip(fruits, colors):\n",
        "    print(f\"{fruit} \uc758 \uc0c9 : {color}\")"
      ]
    },
    {
      "cell_type": "code",
      "execution_count": null,
      "metadata": {
        "colab": {
          "base_uri": "https://localhost:8080/"
        },
        "id": "P6liniNNO_1T",
        "outputId": "e96dd9c6-1961-4860-f584-2858529ec265"
      },
      "outputs": [
        {
          "name": "stdout",
          "output_type": "stream",
          "text": [
            "\ubb38\uc790\ub97c \uc785\ub825\ud558\uc138\uc694.(exit \uc785\ub825 \uc2dc \uc885\ub8cc):ee\n",
            "\uc785\ub825\ud55c \ubb38\uc790 : ee\n",
            "\ubb38\uc790\ub97c \uc785\ub825\ud558\uc138\uc694.(exit \uc785\ub825 \uc2dc \uc885\ub8cc):exit\n",
            "\uc785\ub825\ud55c \ubb38\uc790 : exit\n"
          ]
        }
      ],
      "source": [
        "#'exit'\ub97c \uc785\ub825\ud55c \ub54c\uae4c\uc9c0 \uc0ac\uc6a9\uc790\ub85c\ubd80\ud130 \uc785\ub825\uc744 \uacc4\uc18d\ubc1b\ub294 \ud504\ub85c\uadf8\ub7a8\n",
        "user_input=\"\"\n",
        "while user_input != \"exit\":\n",
        "  user_input= input(\"\ubb38\uc790\ub97c \uc785\ub825\ud558\uc138\uc694.(exit \uc785\ub825 \uc2dc \uc885\ub8cc):\")\n",
        "  print(f\"\uc785\ub825\ud55c \ubb38\uc790 : {user_input}\")"
      ]
    },
    {
      "cell_type": "code",
      "execution_count": null,
      "metadata": {
        "colab": {
          "base_uri": "https://localhost:8080/"
        },
        "id": "I4RgW8cBxBhy",
        "outputId": "7c4effc6-d3b0-4d2e-d331-fbd0fb696815"
      },
      "outputs": [
        {
          "name": "stdout",
          "output_type": "stream",
          "text": [
            "12\n"
          ]
        }
      ],
      "source": [
        "number=[1,2,3,4,5]\n",
        "sum = 0\n",
        "\n",
        "for num in number:\n",
        "  if num == 3:\n",
        "    continue\n",
        "  sum += num\n",
        "\n",
        "print(sum)"
      ]
    },
    {
      "cell_type": "code",
      "execution_count": null,
      "metadata": {
        "colab": {
          "base_uri": "https://localhost:8080/"
        },
        "id": "dM61dQTYzoXy",
        "outputId": "77006a67-0b19-469b-d7bd-dc08569d4e8c"
      },
      "outputs": [
        {
          "name": "stdout",
          "output_type": "stream",
          "text": [
            "\uc0c1\ud488 \ubaa9\ub85d:\n",
            "apple: 1000\uc6d0\n",
            "banana: 500\uc6d0\n",
            "cherry: 800\uc6d0\n",
            "\uc0c1\ud488\uc744 \uc120\ud0dd\ud558\uc138\uc694 (\uc885\ub8cc\ud558\ub824\uba74 'q'\ub97c \uc785\ub825\ud558\uc138\uc694): q\n",
            "\uc7a5\ubc14\uad6c\ub2c8 \ud655\uc778 :\n",
            "\ucd1d \uac00\uaca9: 0\uc6d0\n"
          ]
        }
      ],
      "source": [
        "products = {\n",
        "    \"apple\": 1000,\n",
        "    \"banana\": 500,\n",
        "    \"cherry\": 800\n",
        "}\n",
        "sum = 0\n",
        "cart = {}\n",
        "\n",
        "while True:\n",
        "    #\uc0c1\ud488 \ubaa9\ub85d \ucd9c\ub825\n",
        "    print(\"\uc0c1\ud488 \ubaa9\ub85d:\")\n",
        "    for product, price in products.items():\n",
        "        print(f\"{product}: {price}\uc6d0\")\n",
        "\n",
        "   #\uc0c1\ud488 \uc120\ud0dd \ubc0f \uc218\ub7c9 \uc785\ub825\n",
        "    selected_product = input(\"\uc0c1\ud488\uc744 \uc120\ud0dd\ud558\uc138\uc694 (\uc885\ub8cc\ud558\ub824\uba74 'q'\ub97c \uc785\ub825\ud558\uc138\uc694): \")\n",
        "    if selected_product == 'q':\n",
        "        print(\"\uc7a5\ubc14\uad6c\ub2c8 \ud655\uc778 :\")\n",
        "        for product, quantity in cart.items():\n",
        "            print(f\"{product}: {quantity}\uac1c\" )\n",
        "            sum += products[product] * quantity\n",
        "\n",
        "        print(f\"\ucd1d \uac00\uaca9: {sum}\uc6d0\")\n",
        "\n",
        "        break\n",
        "\n",
        "    if  selected_product in products:\n",
        "      quantity = int(input(\"\uc218\ub791\uc744 \uc785\ub825\ud558\uc138\uc694.: \"))\n",
        "      cart[selected_product] = quantity\n",
        "\n",
        "      print(f\"\uc7a5\ubc14\uad6c\ub2c8\uc5d0 {selected_product} {quantity}\uac1c\uac00 \ucd94\uac00\ub418\uc5c8\uc2b5\ub2c8\ub2e4.\")\n",
        "\n",
        "      print(\"\uc7a5\ubc14\uad6c\ub2c8 \ub0b4\uc6a9:\")\n",
        "      for product, quantity in cart.items():\n",
        "        print(f\"{product}: {quantity}\uac1c\")\n",
        "\n",
        "    else:\n",
        "      print(\"\uc798\ubabb\ub41c \uc0c1\ud488 \uc120\ud0dd\uc785\ub2c8\ub2e4.\")\n",
        "      continue"
      ]
    },
    {
      "cell_type": "code",
      "execution_count": null,
      "metadata": {
        "colab": {
          "base_uri": "https://localhost:8080/"
        },
        "id": "4i6PvHaS25TQ",
        "outputId": "fb77023f-7e16-4323-dc4e-14f65c5f91d9"
      },
      "outputs": [
        {
          "name": "stdout",
          "output_type": "stream",
          "text": [
            "True\n",
            "Raindrops\n",
            "  roses\n",
            "whiskers\n",
            "kittens\n"
          ]
        }
      ],
      "source": [
        "from pathlib import Path\n",
        "\n",
        "path = Path('/content/my_favoriate.txt')\n",
        "print(path.exists())\n",
        "\n",
        "contents = path.read_text()\n",
        "print(contents)\n"
      ]
    },
    {
      "cell_type": "code",
      "execution_count": null,
      "metadata": {
        "colab": {
          "base_uri": "https://localhost:8080/"
        },
        "id": "XN1uDYwF34-1",
        "outputId": "e3731ab6-c5c5-40b6-8887-1c1fee908942"
      },
      "outputs": [
        {
          "name": "stdout",
          "output_type": "stream",
          "text": [
            "Raindrops\n",
            "roses\n",
            "whiskers\n",
            "kittens\n",
            "Python\n",
            "Python\n"
          ]
        }
      ],
      "source": [
        "from pathlib import Path\n",
        "\n",
        "path = Path('/content/my_favoriate.txt')\n",
        "\n",
        "if path.exists():\n",
        "  new_word = \"Python\"\n",
        "\n",
        "  with path.open(mode='a') as file:\n",
        "    file.write(f\"\\n{new_word}\")\n",
        "\n",
        "  contents = path.read_text()\n",
        "  contents_list = contents.splitlines()\n",
        "\n",
        "\n",
        "  for contents in contents_list:\n",
        "    print(contents.lstrip())\n",
        "\n",
        "else:\n",
        "  print(\"\ud30c\uc77c\uc774 \uc5c6\uc2b5\ub2c8\ub2e4.\")"
      ]
    },
    {
      "cell_type": "code",
      "execution_count": null,
      "metadata": {
        "colab": {
          "base_uri": "https://localhost:8080/"
        },
        "id": "xgPeI4kV-tma",
        "outputId": "306f540d-d172-4d62-c43b-a45243704521"
      },
      "outputs": [
        {
          "name": "stdout",
          "output_type": "stream",
          "text": [
            "['Raindrops', 'roses', 'whiskers', 'kittens', 'Robot']\n"
          ]
        }
      ],
      "source": [
        "from pathlib import Path\n",
        "\n",
        "path = Path('/content/my_favoriate.txt')\n",
        "\n",
        "if path.exists():\n",
        "\n",
        "  new_word = \"Robot\"\n",
        "\n",
        "  contents = path.read_text()\n",
        "  contents_list = contents.splitlines()\n",
        "\n",
        "  contents_list.append(new_word)\n",
        "\n",
        "  contents_list = [contents.lstrip() for contents in contents_list]\n",
        "  print(contents_list)\n",
        "  with path.open(mode='w') as file:\n",
        "      file.write(\"\\n\".join(contents_list))\n",
        "\n",
        "\n",
        "else:\n",
        "  print(\"\ud30c\uc77c\uc774 \uc5c6\uc2b5\ub2c8\ub2e4.\")"
      ]
    },
    {
      "cell_type": "code",
      "execution_count": null,
      "metadata": {
        "colab": {
          "base_uri": "https://localhost:8080/"
        },
        "id": "YRVHG-5mDb8j",
        "outputId": "b9bcccd9-008e-439a-db2d-1a06e5a9b407"
      },
      "outputs": [
        {
          "name": "stdout",
          "output_type": "stream",
          "text": [
            "range(1, 10)\n"
          ]
        }
      ],
      "source": []
    }
  ],
  "metadata": {
    "colab": {
      "authorship_tag": "ABX9TyM/StYNN2pFLp6y4Vgddxz2",
      "include_colab_link": true,
      "provenance": []
    },
    "kernelspec": {
      "display_name": "Python 3",
      "name": "python3"
    },
    "language_info": {
      "codemirror_mode": {
        "name": "ipython",
        "version": 3
      },
      "file_extension": ".py",
      "mimetype": "text/x-python",
      "name": "python",
      "nbconvert_exporter": "python",
      "pygments_lexer": "ipython3",
      "version": "3.12.0"
    }
  },
  "nbformat": 4,
  "nbformat_minor": 0
}