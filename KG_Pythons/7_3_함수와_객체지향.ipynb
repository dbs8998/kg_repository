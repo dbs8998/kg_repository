{
  "cells": [
    {
      "cell_type": "markdown",
      "metadata": {
        "id": "sVV81TLlDngX"
      },
      "source": [
        "# 7_3 \ud568\uc218\uc640 \uac1d\uccb4\uc9c0\ud5a5\n"
      ]
    },
    {
      "cell_type": "code",
      "execution_count": 3,
      "metadata": {
        "colab": {
          "base_uri": "https://localhost:8080/"
        },
        "id": "IB3n4GvrnORK",
        "outputId": "381ddbb1-3c94-44aa-c538-76c95df52996"
      },
      "outputs": [
        {
          "name": "stdout",
          "output_type": "stream",
          "text": [
            "\uc548\ub155\ud558\uc138\uc694. Alice\ub2d8\n",
            "\uc548\ub155\ud558\uc138\uc694. bob\ub2d8\n"
          ]
        }
      ],
      "source": [
        "#\ud568\uc218 \uc815\uc758\n",
        "def greet(name):\n",
        "  \"\"\"\uc774 \ud568\uc218\ub294 \uc8fc\uc5b4\uc9c4 \uc774\ub984\uc73c\ub85c \uc778\uc0ac \uba54\uc2dc\uc9c0\ub97c \ucd9c\ub825\ud569\ub2c8\ub2e4\"\"\"\n",
        "  print(f\"\uc548\ub155\ud558\uc138\uc694. {name}\ub2d8\")\n",
        "\n",
        "#\ud568\uc218 \ud638\ucd9c\n",
        "greet(\"Alice\")\n",
        "greet(\"bob\")"
      ]
    },
    {
      "cell_type": "code",
      "execution_count": 7,
      "metadata": {
        "colab": {
          "base_uri": "https://localhost:8080/"
        },
        "id": "iLNgTbT1ph_2",
        "outputId": "e15c6d8a-79d1-4bde-92fb-868c33c83068"
      },
      "outputs": [
        {
          "name": "stdout",
          "output_type": "stream",
          "text": [
            "3 + 5 = 8\n"
          ]
        }
      ],
      "source": [
        "def add(x, y):\n",
        "  sum = x + y\n",
        "  return sum\n",
        "\n",
        "result = add(3, 5)\n",
        "print(f\"3 + 5 = {result}\")\n"
      ]
    },
    {
      "cell_type": "code",
      "execution_count": 10,
      "metadata": {
        "colab": {
          "base_uri": "https://localhost:8080/"
        },
        "id": "B2F9SooXqFSi",
        "outputId": "fcb9d21f-f903-4dc7-8edb-5c73b132f290"
      },
      "outputs": [
        {
          "name": "stdout",
          "output_type": "stream",
          "text": [
            "\ud569\uc740 15\uc785\ub2c8\ub2e4.\n"
          ]
        }
      ],
      "source": [
        "def calculate_sum(numbers):\n",
        "  \"\"\"\uc22b\uc790 \ub9ac\uc2a4\ud2b8\uc758 \ud569\uacc4\ub97c \uacc4\uc0b0\ud558\ub294 \ud568\uc218\"\"\"\n",
        "  total = 0\n",
        "  for num in numbers:\n",
        "    total += num\n",
        "  return total\n",
        "\n",
        "\n",
        "numbers = [1,2,3,4,5]\n",
        "total = calculate_sum(numbers)\n",
        "print(f\"\ud569\uc740 {total}\uc785\ub2c8\ub2e4.\")"
      ]
    },
    {
      "cell_type": "code",
      "execution_count": 13,
      "metadata": {
        "colab": {
          "base_uri": "https://localhost:8080/"
        },
        "id": "y6a5Sr_7psSG",
        "outputId": "36e45c8a-1ff9-4e7a-d5b9-d5efe181f09e"
      },
      "outputs": [
        {
          "name": "stdout",
          "output_type": "stream",
          "text": [
            "\ub300\ubb38\uc790 \ubcc0\ud658 : HELLO WORLD\n"
          ]
        }
      ],
      "source": [
        "def to_uppercase(text):\n",
        "  \"\"\"\ubb38\uc790\uc5f4\uc744 \ub300\ubb38\uc790\ub85c \ubcc0\ud658\ud558\ub294 \ud568\uc218\"\"\"\n",
        "  upper_text = \"\"\n",
        "  for char in text:\n",
        "    upper_text += char.upper()\n",
        "  return upper_text\n",
        "\n",
        "text = \"hello world\"\n",
        "upper_text = to_uppercase(text)\n",
        "print(\"\ub300\ubb38\uc790 \ubcc0\ud658 :\", upper_text)"
      ]
    },
    {
      "cell_type": "code",
      "execution_count": 20,
      "metadata": {
        "colab": {
          "base_uri": "https://localhost:8080/"
        },
        "id": "AEAOmelkuOMQ",
        "outputId": "f45f5c78-a2ff-40a1-97fe-56e6dfc90a8c"
      },
      "outputs": [
        {
          "name": "stdout",
          "output_type": "stream",
          "text": [
            "\uc18c\uc218 :  [2, 3, 5, 7, 11, 13, 17, 19]\n"
          ]
        }
      ],
      "source": [
        "def find_primes(start, end):\n",
        "  primes = []\n",
        "  for num in range(start,end):\n",
        "    is_prime = True\n",
        "    for i in range(2, int(num**0.5) +1):\n",
        "      if num % i == 0:\n",
        "        is_prime = False\n",
        "        break\n",
        "    if is_prime:\n",
        "      primes.append(num)\n",
        "  return primes\n",
        "\n",
        "\n",
        "primes = find_primes(2,20)\n",
        "print(\"\uc18c\uc218 : \" , primes)\n",
        "\n"
      ]
    },
    {
      "cell_type": "code",
      "execution_count": 22,
      "metadata": {
        "colab": {
          "base_uri": "https://localhost:8080/"
        },
        "id": "sv8hCYepwbvt",
        "outputId": "1420f13b-72b5-4b6a-cffc-42ad1eeb2384"
      },
      "outputs": [
        {
          "name": "stdout",
          "output_type": "stream",
          "text": [
            "\ud3c9\uade0 : 30.0\n"
          ]
        }
      ],
      "source": [
        "def calculate_average(numbers):\n",
        "  \"\"\"\uc22b\uc790 \ub9ac\uc2a4\ud2b8\uc758 \ud3c9\uade0\uc744 \uacc4\uc0b0\ud558\ub294 \ud568\uc218\"\"\"\n",
        "  if not numbers:\n",
        "      return 0\n",
        "  total = sum(numbers)\n",
        "  average = total / len(numbers)\n",
        "  return average\n",
        "\n",
        "numbers = [10,20,30,40,50]\n",
        "average = calculate_average(numbers)\n",
        "print(f\"\ud3c9\uade0 : {average}\")"
      ]
    },
    {
      "cell_type": "code",
      "execution_count": 24,
      "metadata": {
        "colab": {
          "base_uri": "https://localhost:8080/"
        },
        "id": "T2iR3azMxPqD",
        "outputId": "0ce33b8d-2851-41fb-c02b-de91215b7754"
      },
      "outputs": [
        {
          "name": "stdout",
          "output_type": "stream",
          "text": [
            "\uc548\ub155\ud558\uc138\uc694. Alice\ub2d8! \ub9cc\ub098\uc11c \ubc18\uac00\uc6cc\uc694!\n",
            "\uc548\ub155\ud558\uc138\uc694. Bob\ub2d8! \uc798 \uc9c0\ub0b4\uc2dc\uc8e0?\n",
            "6\n",
            "21\n"
          ]
        }
      ],
      "source": [
        "def greet_with_message(name, message=\"\ub9cc\ub098\uc11c \ubc18\uac00\uc6cc\uc694!\"):\n",
        "  print(f\"\uc548\ub155\ud558\uc138\uc694. {name}\ub2d8! {message}\")\n",
        "\n",
        "\n",
        "greet_with_message(\"Alice\")\n",
        "greet_with_message(\"Bob\", \"\uc798 \uc9c0\ub0b4\uc2dc\uc8e0?\")\n",
        "\n",
        "def sum_all(*numbers):\n",
        "  total = 0\n",
        "  for num in numbers:\n",
        "    total += num\n",
        "  return total\n",
        "\n",
        "print(sum_all(1,2,3))\n",
        "print(sum_all(1,2,3,4,5,6))"
      ]
    },
    {
      "cell_type": "code",
      "execution_count": 28,
      "metadata": {
        "colab": {
          "base_uri": "https://localhost:8080/"
        },
        "id": "OB8widasyecX",
        "outputId": "404b56f9-e31c-4cf5-fe7c-8ef5cc017684"
      },
      "outputs": [
        {
          "name": "stdout",
          "output_type": "stream",
          "text": [
            "5\n",
            "6\n",
            "(5, 6)\n"
          ]
        }
      ],
      "source": [
        "#\ub9ac\ud134\uac12\uc740 \uc5ec\ub7ec\uac1c\uac00 \uac00\ub2a5\ud558\uba70 \ub9ac\ud134\ub41c \uac12\uc740 \ud29c\ud50c\ub85c \ub118\uc5b4\uac04\ub2e4 ex) \ud574\ub2f9\ub85c\uc9c1\uc758 \uacb0\uacfc\uac12 (5,6)\n",
        "def add_and_mul(a,b):\n",
        "  return a+b, a*b\n",
        "\n",
        "te = add_and_mul(2,3)\n",
        "for t in te:\n",
        "  print(t)\n",
        "\n",
        "print(add_and_mul(2,3))"
      ]
    },
    {
      "cell_type": "code",
      "execution_count": 30,
      "metadata": {
        "id": "Zry_4DQm5IJO"
      },
      "outputs": [],
      "source": [
        "class MyClass:\n",
        "  def __init__(self, param1, param2):\n",
        "    self.param1 = param1\n",
        "    self.param2 = param2\n",
        "  def method1(self, param1):\n",
        "    #\uba54\uc11c\ub4dc \ub3d9\uc791 \uc815\uc758\n",
        "    self.param1 = param1\n",
        "    pass\n",
        "  def method2(self):\n",
        "    #\uba54\uc11c\ub4dc \ub3d9\uc791 \uc815\uc758\n",
        "    pass"
      ]
    },
    {
      "cell_type": "code",
      "execution_count": 41,
      "metadata": {
        "id": "SSzI5zRp7Tja"
      },
      "outputs": [],
      "source": [
        "class Calculator:\n",
        "  def __init__(self):\n",
        "    self.result = 0\n",
        "\n",
        "  def add(self, x, y):\n",
        "    self.result = x+y\n",
        "\n",
        "  def subtract(self, x, y):\n",
        "    self.result = x - y\n",
        "\n",
        "  def mulitply(self, x, y):\n",
        "    self.result = x * y\n",
        "\n",
        "  def divide(self, x, y):\n",
        "    self.result = x / y"
      ]
    },
    {
      "cell_type": "code",
      "execution_count": 45,
      "metadata": {
        "colab": {
          "base_uri": "https://localhost:8080/"
        },
        "id": "3Rh26XN28Hsp",
        "outputId": "2db326d9-47b0-4f7c-bd7b-08e288a53120"
      },
      "outputs": [
        {
          "name": "stdout",
          "output_type": "stream",
          "text": [
            "add :  8\n",
            "subtract :  6\n",
            "mulitply :  87\n",
            "divide :  5.0\n"
          ]
        }
      ],
      "source": [
        "calc = Calculator()\n",
        "calc.add(5,3)\n",
        "print(\"add : \", calc.result)\n",
        "\n",
        "calc.subtract(10,4)\n",
        "print(\"subtract : \", calc.result)\n",
        "\n",
        "calc.mulitply(29,3)\n",
        "print(\"mulitply : \", calc.result)\n",
        "\n",
        "calc.divide(10,2)\n",
        "print(\"divide : \", calc.result)"
      ]
    },
    {
      "cell_type": "code",
      "execution_count": 50,
      "metadata": {
        "id": "rnaiFbTQA9GR"
      },
      "outputs": [],
      "source": [
        "class TrafficLight:\n",
        "  def __init__(self, color):\n",
        "    self.color = color\n",
        "\n",
        "  def action(self):\n",
        "    if self.color == \"red\":\n",
        "      self.next_color = \"yellow\"\n",
        "      print(\"\uba48\ucd94\uace0 \uae30\ub2e4\ub9ac\uc138\uc694.\")\n",
        "\n",
        "    elif self.color == \"yellow\":\n",
        "      self.next_color = \"green\"\n",
        "      print(\"\uba48\ucda4 \uc900\ube44\ud558\uc138\uc694.\")\n",
        "\n",
        "    elif self.color == \"green\":\n",
        "      self.next_color = \"red\"\n",
        "      print(\"\uc804\uc9c4\ud558\uc138\uc694.\")\n",
        "\n",
        "    else:\n",
        "      self.next_color = \"\uace0\uc7a5\"\n",
        "      print(\"\uc218\ub9ac\ub97c \uc694\ud569\ub2c8\ub2e4.\")"
      ]
    },
    {
      "cell_type": "code",
      "execution_count": 52,
      "metadata": {
        "colab": {
          "base_uri": "https://localhost:8080/"
        },
        "id": "XdVB9h-G8Shg",
        "outputId": "eeac8666-3b58-49fb-99b1-37425f99c357"
      },
      "outputs": [
        {
          "name": "stdout",
          "output_type": "stream",
          "text": [
            "red\n",
            "\uba48\ucd94\uace0 \uae30\ub2e4\ub9ac\uc138\uc694.\n",
            "yellow\n",
            "\n",
            "\n",
            "yellow\n",
            "\uba48\ucda4 \uc900\ube44\ud558\uc138\uc694.\n",
            "green\n",
            "\n",
            "\n",
            "green\n",
            "\uc804\uc9c4\ud558\uc138\uc694.\n",
            "red\n",
            "\n",
            "\n",
            "fuchsia\n",
            "\uc218\ub9ac\ub97c \uc694\ud569\ub2c8\ub2e4.\n",
            "\uace0\uc7a5\n",
            "\n",
            "\n"
          ]
        }
      ],
      "source": [
        "for c in ['red', 'yellow', 'green', 'fuchsia']:\n",
        "  c = TrafficLight(c)\n",
        "  print(c.color)\n",
        "  c.action()\n",
        "  print(c.next_color)\n",
        "  print('\\n')"
      ]
    },
    {
      "cell_type": "code",
      "execution_count": 54,
      "metadata": {
        "id": "0xVOK-PICYOa"
      },
      "outputs": [],
      "source": [
        "class Dog:\n",
        "  species = \"Canis familiaris\"\n",
        "\n",
        "  def __init__(self, name, age):\n",
        "    self.name = name\n",
        "    self.age = age\n",
        "\n",
        "  def __str__(self):\n",
        "    return f\"{self.name} is {self.age} years old\"\n",
        "\n",
        "  def speak(self, sound):\n",
        "    return f\"{self.name} says {sound}\""
      ]
    },
    {
      "cell_type": "code",
      "execution_count": 60,
      "metadata": {
        "id": "aOcJTbGXF2fw"
      },
      "outputs": [],
      "source": [
        "class Samoyed(Dog):\n",
        "  def __init__(self, name, age):\n",
        "    super().__init__(name, age)\n",
        "\n",
        "  def speak(self, sound=\"Arf\"):\n",
        "    #return f\"{self.name} says {sound}\"\n",
        "    return super().speak(sound)"
      ]
    },
    {
      "cell_type": "code",
      "execution_count": 63,
      "metadata": {
        "colab": {
          "base_uri": "https://localhost:8080/",
          "height": 54
        },
        "id": "L7BwddV3GGFQ",
        "outputId": "3cda6ee7-6774-4aa7-d956-00d468b88542"
      },
      "outputs": [
        {
          "name": "stdout",
          "output_type": "stream",
          "text": [
            "Kara is 4 years old\n"
          ]
        },
        {
          "data": {
            "application/vnd.google.colaboratory.intrinsic+json": {
              "type": "string"
            },
            "text/plain": [
              "'Kara says kk'"
            ]
          },
          "execution_count": 63,
          "metadata": {},
          "output_type": "execute_result"
        }
      ],
      "source": [
        "kara = Samoyed(\"Kara\",4)\n",
        "print(kara)\n",
        "kara.speak(\"kk\")"
      ]
    },
    {
      "cell_type": "code",
      "execution_count": 70,
      "metadata": {
        "colab": {
          "base_uri": "https://localhost:8080/"
        },
        "id": "ylsOR_qEV98K",
        "outputId": "2c85186b-b09c-4931-aeae-cb77239132a4"
      },
      "outputs": [
        {
          "name": "stdout",
          "output_type": "stream",
          "text": [
            "6.0\n",
            "3.141592653589793\n"
          ]
        }
      ],
      "source": [
        "import math\n",
        "\n",
        "result = math.sqrt(36)\n",
        "print(result)\n",
        "\n",
        "print(math.pi)"
      ]
    },
    {
      "cell_type": "code",
      "execution_count": 71,
      "metadata": {
        "colab": {
          "base_uri": "https://localhost:8080/"
        },
        "id": "oxbtVRnNWL8I",
        "outputId": "57d75f71-2d26-4c77-ccc8-0e9467b60c34"
      },
      "outputs": [
        {
          "name": "stdout",
          "output_type": "stream",
          "text": [
            "4.0 3.141592653589793\n",
            "5.0\n"
          ]
        }
      ],
      "source": [
        "from math import sqrt, pi\n",
        "print(sqrt(16), pi)\n",
        "\n",
        "import math as m\n",
        "print(m.sqrt(25))"
      ]
    },
    {
      "cell_type": "code",
      "execution_count": 75,
      "metadata": {
        "colab": {
          "base_uri": "https://localhost:8080/"
        },
        "id": "_ER0ByT8X_Ol",
        "outputId": "d0840b87-507f-462b-d386-9cd7e561403a"
      },
      "outputs": [
        {
          "name": "stdout",
          "output_type": "stream",
          "text": [
            "7\n",
            "-3\n"
          ]
        }
      ],
      "source": [
        "from my_math import arithmetic as a\n",
        "\n",
        "print(a.add(2,5))\n",
        "\n",
        "print(a.subtract(5,8))\n"
      ]
    },
    {
      "cell_type": "code",
      "execution_count": 89,
      "metadata": {
        "colab": {
          "base_uri": "https://localhost:8080/"
        },
        "id": "dd0YFbvyaqFl",
        "outputId": "7f42663c-da47-4475-8fa3-59012c1d33ef"
      },
      "outputs": [
        {
          "data": {
            "text/plain": [
              "<module 'my_math' from '/content/my_math/__init__.py'>"
            ]
          },
          "execution_count": 89,
          "metadata": {},
          "output_type": "execute_result"
        }
      ],
      "source": [
        "import my_math\n",
        "\n",
        "my_math"
      ]
    },
    {
      "cell_type": "code",
      "execution_count": 101,
      "metadata": {
        "colab": {
          "base_uri": "https://localhost:8080/"
        },
        "id": "kazKpxdvttHB",
        "outputId": "7468bfd0-b8cf-4cc1-ec02-edc99a55df02"
      },
      "outputs": [
        {
          "name": "stdout",
          "output_type": "stream",
          "text": [
            "\uc22b\uc790\ub97c \uc785\ub825\ud558\uc138\uc694 : s\n",
            "\uc798\ubabb\ub41c \uc785\ub825\uc785\ub2c8\ub2e4. \uc22b\uc790\ub97c \uc785\ub825\ud558\uc138\uc694.\n",
            "\ud504\ub85c\uadf8\ub7a8\uc744 \uc885\ub8cc\ud569\ub2c8\ub2e4.\n"
          ]
        }
      ],
      "source": [
        "try:\n",
        " num = int(input(\"\uc22b\uc790\ub97c \uc785\ub825\ud558\uc138\uc694 : \"))\n",
        " result = 10/ num\n",
        " print(f\"10 / {num} = {result}\")\n",
        "except ZeroDivisionError:\n",
        "  print(\"0\uc73c\ub85c \ub098\ub20c \uc218 \uc5c6\uc2b5\ub2c8\ub2e4.\")\n",
        "except ValueError:\n",
        "  print(\"\uc798\ubabb\ub41c \uc785\ub825\uc785\ub2c8\ub2e4. \uc22b\uc790\ub97c \uc785\ub825\ud558\uc138\uc694.\")\n",
        "finally:\n",
        "  print(\"\ud504\ub85c\uadf8\ub7a8\uc744 \uc885\ub8cc\ud569\ub2c8\ub2e4.\")\n"
      ]
    },
    {
      "cell_type": "code",
      "execution_count": 104,
      "metadata": {
        "colab": {
          "base_uri": "https://localhost:8080/"
        },
        "id": "cLQcdl7pwCF1",
        "outputId": "ce3caddf-2985-462e-d1bf-facef43750aa"
      },
      "outputs": [
        {
          "name": "stdout",
          "output_type": "stream",
          "text": [
            "\ud30c\uc77c\uc744 \ucc3e\uc744 \uc218 \uc5c6\uc2b5\ub2c8\ub2e4. myfile.txt\n"
          ]
        }
      ],
      "source": [
        "try:\n",
        "  with open(\"myfile.txt\", 'r') as file:\n",
        "    content = file.read()\n",
        "    print(content)\n",
        "except FileNotFoundError as e:\n",
        "  print(f\"\ud30c\uc77c\uc744 \ucc3e\uc744 \uc218 \uc5c6\uc2b5\ub2c8\ub2e4. {e.filename}\")\n",
        "except IOError as e:\n",
        "  print(f\"\ud30c\uc77c \uc77d\uae30 \uc624\ub958 : {e}\")\n"
      ]
    },
    {
      "cell_type": "code",
      "execution_count": 4,
      "metadata": {
        "colab": {
          "base_uri": "https://localhost:8080/",
          "height": 418
        },
        "id": "6hqv2Fthyk6O",
        "outputId": "d78c3a23-9935-4577-a5c3-192b1a99d95d"
      },
      "outputs": [
        {
          "name": "stdout",
          "output_type": "stream",
          "text": [
            "\ud504\ub85c\uadf8\ub7a8 \uc885\ub8cc\n"
          ]
        },
        {
          "ename": "AttributeError",
          "evalue": "'CustomErrer' object has no attribute 'message'",
          "output_type": "error",
          "traceback": [
            "\u001b[0;31m---------------------------------------------------------------------------\u001b[0m",
            "\u001b[0;31mCustomErrer\u001b[0m                               Traceback (most recent call last)",
            "\u001b[0;32m/tmp/ipython-input-4-3732679019.py\u001b[0m in \u001b[0;36m<cell line: 0>\u001b[0;34m()\u001b[0m\n\u001b[1;32m      5\u001b[0m \u001b[0;32mtry\u001b[0m\u001b[0;34m:\u001b[0m\u001b[0;34m\u001b[0m\u001b[0;34m\u001b[0m\u001b[0m\n\u001b[0;32m----> 6\u001b[0;31m   \u001b[0;32mraise\u001b[0m \u001b[0mCustomErrer\u001b[0m\u001b[0;34m(\u001b[0m\u001b[0;34m\"\ucee4\uc2a4\ud140 \uc624\ub958 \ubc1c\uc0dd!\"\u001b[0m\u001b[0;34m)\u001b[0m\u001b[0;34m\u001b[0m\u001b[0;34m\u001b[0m\u001b[0m\n\u001b[0m\u001b[1;32m      7\u001b[0m \u001b[0;32mexcept\u001b[0m \u001b[0mCustomErrer\u001b[0m \u001b[0;32mas\u001b[0m \u001b[0me\u001b[0m\u001b[0;34m:\u001b[0m\u001b[0;34m\u001b[0m\u001b[0;34m\u001b[0m\u001b[0m\n",
            "\u001b[0;31mCustomErrer\u001b[0m: \ucee4\uc2a4\ud140 \uc624\ub958 \ubc1c\uc0dd!",
            "\nDuring handling of the above exception, another exception occurred:\n",
            "\u001b[0;31mAttributeError\u001b[0m                            Traceback (most recent call last)",
            "\u001b[0;32m/tmp/ipython-input-4-3732679019.py\u001b[0m in \u001b[0;36m<cell line: 0>\u001b[0;34m()\u001b[0m\n\u001b[1;32m      6\u001b[0m   \u001b[0;32mraise\u001b[0m \u001b[0mCustomErrer\u001b[0m\u001b[0;34m(\u001b[0m\u001b[0;34m\"\ucee4\uc2a4\ud140 \uc624\ub958 \ubc1c\uc0dd!\"\u001b[0m\u001b[0;34m)\u001b[0m\u001b[0;34m\u001b[0m\u001b[0;34m\u001b[0m\u001b[0m\n\u001b[1;32m      7\u001b[0m \u001b[0;32mexcept\u001b[0m \u001b[0mCustomErrer\u001b[0m \u001b[0;32mas\u001b[0m \u001b[0me\u001b[0m\u001b[0;34m:\u001b[0m\u001b[0;34m\u001b[0m\u001b[0;34m\u001b[0m\u001b[0m\n\u001b[0;32m----> 8\u001b[0;31m   \u001b[0mprint\u001b[0m\u001b[0;34m(\u001b[0m\u001b[0me\u001b[0m\u001b[0;34m.\u001b[0m\u001b[0mmessage\u001b[0m\u001b[0;34m)\u001b[0m\u001b[0;34m\u001b[0m\u001b[0;34m\u001b[0m\u001b[0m\n\u001b[0m\u001b[1;32m      9\u001b[0m \u001b[0;32mfinally\u001b[0m\u001b[0;34m:\u001b[0m\u001b[0;34m\u001b[0m\u001b[0;34m\u001b[0m\u001b[0m\n\u001b[1;32m     10\u001b[0m   \u001b[0mprint\u001b[0m\u001b[0;34m(\u001b[0m\u001b[0;34m\"\ud504\ub85c\uadf8\ub7a8 \uc885\ub8cc\"\u001b[0m\u001b[0;34m)\u001b[0m\u001b[0;34m\u001b[0m\u001b[0;34m\u001b[0m\u001b[0m\n",
            "\u001b[0;31mAttributeError\u001b[0m: 'CustomErrer' object has no attribute 'message'"
          ]
        }
      ],
      "source": [
        "class CustomErrer(Exception):\n",
        "  def __inif__(self, message):\n",
        "    self.message = message\n",
        "\n",
        "try:\n",
        "  raise CustomErrer(\"\ucee4\uc2a4\ud140 \uc624\ub958 \ubc1c\uc0dd!\")\n",
        "except CustomErrer as e:\n",
        "  print(e.message)\n",
        "finally:\n",
        "  print(\"\ud504\ub85c\uadf8\ub7a8 \uc885\ub8cc\")\n"
      ]
    },
    {
      "cell_type": "code",
      "execution_count": 25,
      "metadata": {
        "colab": {
          "base_uri": "https://localhost:8080/"
        },
        "id": "gw-M_MftaDJH",
        "outputId": "8e37a03a-6bd9-4577-9873-221a7ca656c1"
      },
      "outputs": [
        {
          "name": "stdout",
          "output_type": "stream",
          "text": [
            "1\ubd80\ud130 100 \uc0ac\uc774\uc758 \uc22b\uc790\ub97c \ucd94\uce21\ud574\ubcf4\uc138\uc694: 11\n",
            "\ub108\ubb34 \ub0ae\uc544\uc694!\n",
            "\ud504\ub85c\uadf8\ub7a8 \uc885\ub8cc\n",
            "1\ubd80\ud130 100 \uc0ac\uc774\uc758 \uc22b\uc790\ub97c \ucd94\uce21\ud574\ubcf4\uc138\uc694: 20\n",
            "\ub108\ubb34 \ub0ae\uc544\uc694!\n",
            "\ud504\ub85c\uadf8\ub7a8 \uc885\ub8cc\n",
            "1\ubd80\ud130 100 \uc0ac\uc774\uc758 \uc22b\uc790\ub97c \ucd94\uce21\ud574\ubcf4\uc138\uc694: 30\n",
            "\ub108\ubb34 \ub0ae\uc544\uc694!\n",
            "\ud504\ub85c\uadf8\ub7a8 \uc885\ub8cc\n",
            "1\ubd80\ud130 100 \uc0ac\uc774\uc758 \uc22b\uc790\ub97c \ucd94\uce21\ud574\ubcf4\uc138\uc694: 40\n",
            "\ub108\ubb34 \ub0ae\uc544\uc694!\n",
            "\ud504\ub85c\uadf8\ub7a8 \uc885\ub8cc\n",
            "1\ubd80\ud130 100 \uc0ac\uc774\uc758 \uc22b\uc790\ub97c \ucd94\uce21\ud574\ubcf4\uc138\uc694: 50\n",
            "\ub108\ubb34 \ub0ae\uc544\uc694!\n",
            "\ud504\ub85c\uadf8\ub7a8 \uc885\ub8cc\n",
            "1\ubd80\ud130 100 \uc0ac\uc774\uc758 \uc22b\uc790\ub97c \ucd94\uce21\ud574\ubcf4\uc138\uc694: 60\n",
            "\ub108\ubb34 \ub0ae\uc544\uc694!\n",
            "\ud504\ub85c\uadf8\ub7a8 \uc885\ub8cc\n",
            "1\ubd80\ud130 100 \uc0ac\uc774\uc758 \uc22b\uc790\ub97c \ucd94\uce21\ud574\ubcf4\uc138\uc694: 80\n",
            "\ub108\ubb34 \ub0ae\uc544\uc694!\n",
            "\ud504\ub85c\uadf8\ub7a8 \uc885\ub8cc\n",
            "1\ubd80\ud130 100 \uc0ac\uc774\uc758 \uc22b\uc790\ub97c \ucd94\uce21\ud574\ubcf4\uc138\uc694: 90\n",
            "\ub108\ubb34 \ub192\uc544\uc694\n",
            "\ud504\ub85c\uadf8\ub7a8 \uc885\ub8cc\n",
            "1\ubd80\ud130 100 \uc0ac\uc774\uc758 \uc22b\uc790\ub97c \ucd94\uce21\ud574\ubcf4\uc138\uc694: 82\n",
            "\ub108\ubb34 \ub192\uc544\uc694\n",
            "\ud504\ub85c\uadf8\ub7a8 \uc885\ub8cc\n",
            "1\ubd80\ud130 100 \uc0ac\uc774\uc758 \uc22b\uc790\ub97c \ucd94\uce21\ud574\ubcf4\uc138\uc694: 81\n",
            "\ucd95\ud558\ud569\ub2c8\ub2e4. \uc815\ub2f5\uc785\ub2c8\ub2e4.\n",
            "\ud504\ub85c\uadf8\ub7a8 \uc885\ub8cc\n"
          ]
        }
      ],
      "source": [
        "import random\n",
        "\n",
        "secret_number = random.randint(1,100)\n",
        "\n",
        "def randomgame(guess):\n",
        "  try:\n",
        "    #\ub4e4\uc5b4\uc628 \ub370\uc774\ud130\uac00 int\uac12\uc778\uc9c0 \uccb4\ud06c\n",
        "    if isinstance(guess, int):\n",
        "      if guess == secret_number:\n",
        "        print(\"\ucd95\ud558\ud569\ub2c8\ub2e4. \uc815\ub2f5\uc785\ub2c8\ub2e4.\")\n",
        "        return guess\n",
        "      elif guess < secret_number:\n",
        "        print(\"\ub108\ubb34 \ub0ae\uc544\uc694!\")\n",
        "      else:\n",
        "        print(\"\ub108\ubb34 \ub192\uc544\uc694\")\n",
        "    else:\n",
        "      raise ValueError(\"\uc22b\uc790\ub97c \uc785\ub825\ud558\uc138\uc694\")\n",
        "\n",
        "  except Exception as e:\n",
        "    print(e.message)\n",
        "  finally:\n",
        "    print(\"\ud504\ub85c\uadf8\ub7a8 \uc885\ub8cc\")\n",
        "\n",
        "\n",
        "while True:\n",
        "    user_input = input(\"1\ubd80\ud130 100 \uc0ac\uc774\uc758 \uc22b\uc790\ub97c \ucd94\uce21\ud574\ubcf4\uc138\uc694: \")\n",
        "    try:\n",
        "        guess = int(user_input)\n",
        "        val = randomgame(guess)\n",
        "        if val == guess:\n",
        "          break\n",
        "\n",
        "    except ValueError:\n",
        "        print(\"\u26a0\ufe0f \uc798\ubabb\ub41c \uc785\ub825\uc785\ub2c8\ub2e4. \uc22b\uc790\ub97c \uc785\ub825\ud558\uc138\uc694!\")\n"
      ]
    }
  ],
  "metadata": {
    "colab": {
      "authorship_tag": "ABX9TyM/StYNN2pFLp6y4Vgddxz2",
      "include_colab_link": true,
      "provenance": []
    },
    "kernelspec": {
      "display_name": "Python 3",
      "name": "python3"
    },
    "language_info": {
      "codemirror_mode": {
        "name": "ipython",
        "version": 3
      },
      "file_extension": ".py",
      "mimetype": "text/x-python",
      "name": "python",
      "nbconvert_exporter": "python",
      "pygments_lexer": "ipython3",
      "version": "3.12.0"
    }
  },
  "nbformat": 4,
  "nbformat_minor": 0
}